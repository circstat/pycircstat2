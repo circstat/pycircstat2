{
 "cells": [
  {
   "cell_type": "code",
   "execution_count": 1,
   "metadata": {},
   "outputs": [],
   "source": [
    "import numpy as np\n",
    "\n",
    "from pycircstat2 import Circular, load_data"
   ]
  },
  {
   "attachments": {},
   "cell_type": "markdown",
   "metadata": {},
   "source": [
    "## Descriptive Statistics\n",
    "\n",
    "### Table of Contents\n",
    "\n",
    "- [circ_mean](#circular-mean)\n",
    "- [circ_moment](#circular-moment)\n",
    "- [circ_dispersion](#circular-dispersion)\n",
    "- [circ_skewness](#circular-skewness)\n",
    "- [circ_kurtosis](#circular-kurtosis)\n",
    "- [circ_median](#circular-median)\n",
    "\n",
    "### See also\n",
    "\n",
    "Chapter 26 of Zar (2010) contains many examples and step-by-step guide of how to compute most of circular descriptive statistics. We replicated all those examples and figures in notebook [`B2-Zar-2010`](https://nbviewer.org/github/circstat/pycircstat2/blob/main/examples/B2-Zar-2010.ipynb) with `pycircstats2`."
   ]
  },
  {
   "attachments": {},
   "cell_type": "markdown",
   "metadata": {},
   "source": [
    "### Circular mean\n",
    "\n",
    "`circ_mean(alpha, w)` returns both the circular mean and the mean resultant length, as both quantities are closely related and computed together."
   ]
  },
  {
   "cell_type": "code",
   "execution_count": 2,
   "metadata": {},
   "outputs": [
    {
     "name": "stdout",
     "output_type": "stream",
     "text": [
      "μ=3.1, r=0.83\n"
     ]
    }
   ],
   "source": [
    "from pycircstat2.descriptive import circ_mean\n",
    "\n",
    "b11 = load_data(\"B11\", source=\"fisher\")[\"θ\"].values\n",
    "c11 = Circular(data=b11)\n",
    "\n",
    "u, r = circ_mean(alpha=c11.alpha)\n",
    "print(f\"μ={np.rad2deg(u).round(2)}, r={r.round(2)}\")"
   ]
  },
  {
   "attachments": {},
   "cell_type": "markdown",
   "metadata": {},
   "source": [
    "### Circular moment\n",
    "\n",
    "`circ_moment(alpha, w)` returns the `p`th trigonometric moment and the corresponding mean resultant vector (and some intermediates values if `return_intermediates=True`)"
   ]
  },
  {
   "cell_type": "code",
   "execution_count": 3,
   "metadata": {},
   "outputs": [
    {
     "name": "stdout",
     "output_type": "stream",
     "text": [
      "μ1=3.1, r1=0.83, ∑cos=0.83, ∑sin=0.04\n",
      "μ2=0.64, r2=0.67, ∑cos2=0.67, ∑sin2=0.01\n"
     ]
    }
   ],
   "source": [
    "from pycircstat2.descriptive import circ_moment\n",
    "\n",
    "# first moment == mean\n",
    "\n",
    "u1, r1, Cbar, Sbar = circ_moment(alpha=c11.alpha, p=1, centered=False, return_intermediates=True)\n",
    "print(f\"μ1={np.rad2deg(u1).round(2)}, r1={r1.round(2)}, ∑cos={Cbar.round(2)}, ∑sin={Sbar.round(2)}\")\n",
    "\n",
    "# second moment\n",
    "\n",
    "u2, r2, Cbar, Sbar = circ_moment(alpha=c11.alpha, p=2, centered=False, return_intermediates=True)\n",
    "print(f\"μ2={np.rad2deg(u2).round(2)}, r2={r2.round(2)}, ∑cos2={Cbar.round(2)}, ∑sin2={Sbar.round(2)}\")"
   ]
  },
  {
   "attachments": {},
   "cell_type": "markdown",
   "metadata": {},
   "source": [
    "### Circular dispersion\n",
    "\n",
    "`circ_dispersion` computes the **sample circular dispersion** (eq 2.28, Fisher, 1993):\n",
    "\n",
    "$$\\text{circular dispersion} = \\frac{1 - r_{2}}{2 r_{1}^{2}}$$\n",
    "\n",
    "* NOTE: In Fisher (1993), data were centered (by substrating the mean) before the computation of all summary statistics related to the second circular moments (such as dispersion, skewness and kurtosis), which might results in *incorrect* estimates (see [issue #58](https://github.com/circstat/pycircstat/issues/58) from `pycircstat`). Here, we follows Pewsey, et al. 2014, by setting the default as **NOT** centering the data. "
   ]
  },
  {
   "cell_type": "code",
   "execution_count": 4,
   "metadata": {},
   "outputs": [
    {
     "data": {
      "text/plain": [
       "(0.23986529263377035, 0.23986529263377035)"
      ]
     },
     "execution_count": 4,
     "metadata": {},
     "output_type": "execute_result"
    }
   ],
   "source": [
    "from pycircstat2.descriptive import circ_dispersion\n",
    "\n",
    "circ_dispersion(alpha=c11.alpha), (1 - r2)/ (2 * r1 **2)"
   ]
  },
  {
   "attachments": {},
   "cell_type": "markdown",
   "metadata": {},
   "source": [
    "### Circular skewness\n",
    "\n",
    "Circular skewness measures how symmetric the data distribution is:\n",
    "\n",
    "$$\\text{circular skewness} = \\frac{r_{2}\\cos(\\mu_{2} - 2\\mu_{1})}{(1 - r_{1})^{3/2}}$$\n",
    "\n",
    "If the resulting value is near 0, then the data distribution is symmetric; if it's relatively large and negative, the data distribution is skewed counterclockwise away from the mean direction; if it's positive, then it's skewed clockwise.\n"
   ]
  },
  {
   "cell_type": "code",
   "execution_count": 5,
   "metadata": {},
   "outputs": [
    {
     "data": {
      "text/plain": [
       "(-0.9235490965405332, -0.9235490965405332)"
      ]
     },
     "execution_count": 5,
     "metadata": {},
     "output_type": "execute_result"
    }
   ],
   "source": [
    "from pycircstat2.descriptive import circ_skewness\n",
    "\n",
    "circ_skewness(alpha=c11.alpha), (r2 * np.sin(u2 - 2 * u1)) / (1 - r1) ** 1.5\n"
   ]
  },
  {
   "attachments": {},
   "cell_type": "markdown",
   "metadata": {},
   "source": [
    "### Circular kurtosis\n",
    "\n",
    "Circular kurtosis measures the peakedness of the data distribution:\n",
    "\n",
    "$$\\text{circular kurtosis} = \\frac{r_{2}\\cos(\\mu_{2} - 2\\mu_{1}) - r_{1}^{4}}{(1 - r_{1})^{2}}$$\n",
    "\n",
    "\n",
    "If it's close to 0, the data is near evenly distributed around the circle."
   ]
  },
  {
   "cell_type": "code",
   "execution_count": 6,
   "metadata": {},
   "outputs": [
    {
     "data": {
      "text/plain": [
       "(6.642665308562964, 6.642665308562964)"
      ]
     },
     "execution_count": 6,
     "metadata": {},
     "output_type": "execute_result"
    }
   ],
   "source": [
    "from pycircstat2.descriptive import circ_kurtosis\n",
    "\n",
    "circ_kurtosis(alpha=c11.alpha), (r2 * np.cos(u2 - 2 * u1) - r**4) / (1 - r1) ** 2\n"
   ]
  },
  {
   "attachments": {},
   "cell_type": "markdown",
   "metadata": {},
   "source": [
    "### Circular median"
   ]
  },
  {
   "attachments": {},
   "cell_type": "markdown",
   "metadata": {},
   "source": [
    "The median for circular data is not well-defined compared to other summary statistics. \n",
    "\n",
    "The simplest way to define the circular sample median is to find the axis that can divide the data into two equal halves. In `pycircstat2`, we call this method `count` because it's implemented as rotating an axis, and count the number of data point in both sides, then returns the axis with the smallest count difference. The axes can be just the angles in the data set, or, it can be predefined, for example, all axes seperated by 1 degree. We chose the first approach as it's more convenient. \n",
    "\n",
    "Alternatively, one can define the median as the axis that has the minimum mean deviation (`deviation`; in some literature, it's called Mardia's median):\n",
    "\n",
    "$$\\text{mean deviation} = \\pi - \\frac{1}{n}\\sum_{1}^{n}|\\pi - |\\theta_{i} - \\theta||$$\n",
    "\n",
    "Again, there are two approches: 1. we can choose the axis from existing data points, or 2. from a predefined grids.\n",
    "\n",
    "For grouped data, we use the method of Mardia (1972).\n",
    "\n",
    "Both `count` and `deviation` would potentially identify multiple axes that satisfy the condition. In those case, we followed Otieno & Anderson-Cook (2003) by simply taking the circular mean of **ALL** potential medians. But the user can also choose to return all potential medians instead.\n",
    "\n"
   ]
  },
  {
   "cell_type": "code",
   "execution_count": 7,
   "metadata": {},
   "outputs": [
    {
     "name": "stdout",
     "output_type": "stream",
     "text": [
      "90.0\n",
      "[ 45.  45. 135. 135.]\n"
     ]
    }
   ],
   "source": [
    "from pycircstat2.descriptive import circ_median\n",
    "\n",
    "# example with multiple ties \n",
    "d = np.deg2rad(np.array([0, 45, 45, 135,135, 180]))\n",
    "\n",
    "# return average: (45 + 135) / 2 = 90\n",
    "print(np.rad2deg(circ_median(alpha=d, return_average=True)))\n",
    "# return all potential medians\n",
    "print(np.rad2deg(circ_median(alpha=d, return_average=False)))"
   ]
  },
  {
   "attachments": {},
   "cell_type": "markdown",
   "metadata": {},
   "source": [
    "## TODO\n",
    "\n",
    "### Circular standard deviation\n",
    "\n",
    "`circ_std()`\n",
    "\n",
    "### Confidence interval for circular mean\n",
    "\n",
    "`circ_mean_ci()`\n",
    "\n",
    "### Confidence interval for circular median\n",
    "\n",
    "`circ_median_ci()`"
   ]
  },
  {
   "cell_type": "code",
   "execution_count": 8,
   "metadata": {},
   "outputs": [
    {
     "name": "stdout",
     "output_type": "stream",
     "text": [
      "Last updated: 2023-01-31 16:59:02CET\n",
      "\n",
      "Python implementation: CPython\n",
      "Python version       : 3.10.6\n",
      "IPython version      : 8.5.0\n",
      "\n",
      "pycircstat2: 0.1.0\n",
      "\n",
      "sys  : 3.10.6 | packaged by conda-forge | (main, Aug 22 2022, 20:43:44) [Clang 13.0.1 ]\n",
      "numpy: 1.23.5\n",
      "\n",
      "Watermark: 2.3.1\n",
      "\n"
     ]
    }
   ],
   "source": [
    "%load_ext watermark\n",
    "%watermark --time --date --timezone --updated --python --iversions --watermark -p pycircstat2"
   ]
  },
  {
   "cell_type": "code",
   "execution_count": null,
   "metadata": {},
   "outputs": [],
   "source": []
  }
 ],
 "metadata": {
  "kernelspec": {
   "display_name": "base",
   "language": "python",
   "name": "python3"
  },
  "language_info": {
   "codemirror_mode": {
    "name": "ipython",
    "version": 3
   },
   "file_extension": ".py",
   "mimetype": "text/x-python",
   "name": "python",
   "nbconvert_exporter": "python",
   "pygments_lexer": "ipython3",
   "version": "3.10.6"
  },
  "orig_nbformat": 4,
  "vscode": {
   "interpreter": {
    "hash": "4a52f57b56c27f38fc3d95daa57af6da3929fe8541a384ec0d11efb6a1b206eb"
   }
  }
 },
 "nbformat": 4,
 "nbformat_minor": 2
}
