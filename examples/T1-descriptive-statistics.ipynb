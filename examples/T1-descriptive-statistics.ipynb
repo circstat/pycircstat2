{
 "cells": [
  {
   "cell_type": "code",
   "execution_count": 1,
   "metadata": {},
   "outputs": [],
   "source": [
    "import numpy as np\n",
    "\n",
    "from pycircstat2 import Circular, load_data"
   ]
  },
  {
   "attachments": {},
   "cell_type": "markdown",
   "metadata": {},
   "source": [
    "# Descriptive Statistics\n",
    "\n",
    "### Table of Contents\n",
    "\n",
    "- [circ_mean](#circular-mean)\n",
    "- [circ_moment](#circular-moment)\n",
    "- [circ_dispersion](#circular-dispersion)\n",
    "- [circ_skewness](#circular-skewness)\n",
    "- [circ_kurtosis](#circular-kurtosis)\n",
    "- [circ_median](#circular-median)\n",
    "- [circ_std](#circular-standard-deviation)\n",
    "- [circ_mean_ci](#confidence-interval-for-circular-mean-and-circular-median) and [circ_median_ci](#confidence-interval-for-circular-mean-and-circular-median)\n",
    "\n",
    "### See also\n",
    "\n",
    "Chapter 26 of Zar (2010) contains many examples and step-by-step guide of how to compute most of circular descriptive statistics. We replicated all those examples and figures in notebook [`B2-Zar-2010`](https://nbviewer.org/github/circstat/pycircstat2/blob/main/examples/B2-Zar-2010.ipynb) with `pycircstats2`."
   ]
  },
  {
   "attachments": {},
   "cell_type": "markdown",
   "metadata": {},
   "source": [
    "## Circular mean\n",
    "\n",
    "`circ_mean(alpha, w)` returns both the circular mean (`μ`) and the mean resultant length (`r`), as both quantities are closely related and computed together.\n",
    "\n",
    "- NOTE: `r` is a measure of concentration, and is also called the length of the mean vector. It has no units and vary from 0 to 1."
   ]
  },
  {
   "cell_type": "code",
   "execution_count": 2,
   "metadata": {},
   "outputs": [
    {
     "name": "stdout",
     "output_type": "stream",
     "text": [
      "μ=3.1, r=0.83\n"
     ]
    }
   ],
   "source": [
    "from pycircstat2.descriptive import circ_mean\n",
    "\n",
    "b11 = load_data(\"B11\", source=\"fisher\")[\"θ\"].values\n",
    "c11 = Circular(data=b11)\n",
    "\n",
    "u, r = circ_mean(alpha=c11.alpha, return_r=True)\n",
    "print(f\"μ={np.rad2deg(u).round(2)}, r={r.round(2)}\")"
   ]
  },
  {
   "attachments": {},
   "cell_type": "markdown",
   "metadata": {},
   "source": [
    "## Circular moment\n",
    "\n",
    "`circ_moment(alpha, w)` returns the `p`th trigonometric moment and the corresponding mean resultant vector (and some intermediates values if `return_intermediates=True`)"
   ]
  },
  {
   "cell_type": "code",
   "execution_count": 3,
   "metadata": {},
   "outputs": [
    {
     "name": "stdout",
     "output_type": "stream",
     "text": [
      "μ1=3.1, r1=0.83, ∑cos=0.83, ∑sin=0.04\n",
      "μ2=0.64, r2=0.67, ∑cos2=0.67, ∑sin2=0.01\n"
     ]
    }
   ],
   "source": [
    "from pycircstat2.descriptive import circ_moment\n",
    "\n",
    "# first moment == mean\n",
    "\n",
    "u1, r1, Cbar, Sbar = circ_moment(alpha=c11.alpha, p=1, centered=False, return_intermediates=True)\n",
    "print(f\"μ1={np.rad2deg(u1).round(2)}, r1={r1.round(2)}, ∑cos={Cbar.round(2)}, ∑sin={Sbar.round(2)}\")\n",
    "\n",
    "# second moment\n",
    "\n",
    "u2, r2, Cbar, Sbar = circ_moment(alpha=c11.alpha, p=2, centered=False, return_intermediates=True)\n",
    "print(f\"μ2={np.rad2deg(u2).round(2)}, r2={r2.round(2)}, ∑cos2={Cbar.round(2)}, ∑sin2={Sbar.round(2)}\")"
   ]
  },
  {
   "attachments": {},
   "cell_type": "markdown",
   "metadata": {},
   "source": [
    "## Circular dispersion\n",
    "\n",
    "`circ_dispersion(alpha)` computes the **sample circular dispersion** (eq 2.28, Fisher, 1993):\n",
    "\n",
    "$$\\text{circular dispersion} = \\frac{1 - r_{2}}{2 r_{1}^{2}}$$\n",
    "\n",
    "* NOTE: In Fisher (1993), data were centered (by substrating the mean) before the computation of all summary statistics related to the second circular moments (such as dispersion, skewness and kurtosis), which might results in *incorrect* estimates (see [issue #58](https://github.com/circstat/pycircstat/issues/58) from `pycircstat`). Here, we follows Pewsey, et al. 2014, by setting the default as **NOT** centering the data. "
   ]
  },
  {
   "cell_type": "code",
   "execution_count": 4,
   "metadata": {},
   "outputs": [
    {
     "data": {
      "text/plain": [
       "(np.float64(0.23986529263377035), np.float64(0.23986529263377035))"
      ]
     },
     "execution_count": 4,
     "metadata": {},
     "output_type": "execute_result"
    }
   ],
   "source": [
    "from pycircstat2.descriptive import circ_dispersion\n",
    "\n",
    "circ_dispersion(alpha=c11.alpha), (1 - r2)/ (2 * r1 **2)"
   ]
  },
  {
   "attachments": {},
   "cell_type": "markdown",
   "metadata": {},
   "source": [
    "## Circular skewness\n",
    "\n",
    "`circ_skewness(alpha)` measures how symmetric the data distribution is:\n",
    "\n",
    "$$\\text{circular skewness} = \\frac{r_{2}\\cos(\\mu_{2} - 2\\mu_{1})}{(1 - r_{1})^{3/2}}$$\n",
    "\n",
    "If the resulting value is near 0, then the data distribution is symmetric; if it's relatively large and negative, the data distribution is skewed counterclockwise away from the mean direction; if it's positive, then it's skewed clockwise.\n"
   ]
  },
  {
   "cell_type": "code",
   "execution_count": 5,
   "metadata": {},
   "outputs": [
    {
     "data": {
      "text/plain": [
       "(np.float64(-0.9235490965405332), np.float64(-0.9235490965405332))"
      ]
     },
     "execution_count": 5,
     "metadata": {},
     "output_type": "execute_result"
    }
   ],
   "source": [
    "from pycircstat2.descriptive import circ_skewness\n",
    "\n",
    "circ_skewness(alpha=c11.alpha), (r2 * np.sin(u2 - 2 * u1)) / (1 - r1) ** 1.5\n"
   ]
  },
  {
   "attachments": {},
   "cell_type": "markdown",
   "metadata": {},
   "source": [
    "## Circular kurtosis\n",
    "\n",
    "`circ_kurtosis(alpha)` measures the peakedness of the data distribution:\n",
    "\n",
    "$$\\text{circular kurtosis} = \\frac{r_{2}\\cos(\\mu_{2} - 2\\mu_{1}) - r_{1}^{4}}{(1 - r_{1})^{2}}$$\n",
    "\n",
    "\n",
    "If it's close to 0, the data is near evenly distributed around the circle."
   ]
  },
  {
   "cell_type": "code",
   "execution_count": 6,
   "metadata": {},
   "outputs": [
    {
     "data": {
      "text/plain": [
       "(np.float64(6.642665308562964), np.float64(6.642665308562964))"
      ]
     },
     "execution_count": 6,
     "metadata": {},
     "output_type": "execute_result"
    }
   ],
   "source": [
    "from pycircstat2.descriptive import circ_kurtosis\n",
    "\n",
    "circ_kurtosis(alpha=c11.alpha), (r2 * np.cos(u2 - 2 * u1) - r**4) / (1 - r1) ** 2\n"
   ]
  },
  {
   "attachments": {},
   "cell_type": "markdown",
   "metadata": {},
   "source": [
    "## Circular median\n",
    "\n",
    "`circ_median(alpha, method)`\n",
    "\n",
    "The median for circular data is not well-defined compared to other summary statistics. \n",
    "\n",
    "The simplest way to define the circular sample median is to find the axis that can divide the data into two equal halves. In `pycircstat2`, we call this method `count` because it's implemented as rotating an axis, and count the number of data point in both sides, then returns the axis with the smallest count difference. The axes can be just the angles in the data set, or, it can be predefined, for example, all axes seperated by 1 degree. We chose the first approach as it's more convenient. \n",
    "\n",
    "Alternatively, one can define the median as the axis that has the minimum mean deviation (`deviation`; in some literature, it's called Mardia's median):\n",
    "\n",
    "$$\\text{mean deviation} = \\pi - \\frac{1}{n}\\sum_{1}^{n}|\\pi - |\\theta_{i} - \\theta||$$\n",
    "\n",
    "Again, there are two approches: 1. we can choose the axis from existing data points, or 2. from a predefined grids.\n",
    "\n",
    "For grouped data, we use the method of Mardia (1972).\n",
    "\n",
    "Both `count` and `deviation` would potentially identify multiple axes that satisfy the condition. In those case, we followed Otieno & Anderson-Cook (2003) by simply taking the circular mean of **ALL** potential medians. But the user can also choose to return all potential medians instead.\n",
    "\n"
   ]
  },
  {
   "cell_type": "code",
   "execution_count": 7,
   "metadata": {},
   "outputs": [
    {
     "name": "stdout",
     "output_type": "stream",
     "text": [
      "90.0\n",
      "[ 45.  45. 135. 135.]\n"
     ]
    }
   ],
   "source": [
    "from pycircstat2.descriptive import circ_median\n",
    "\n",
    "# example with multiple ties \n",
    "d = np.deg2rad(np.array([0, 45, 45, 135,135, 180]))\n",
    "\n",
    "# return average: (45 + 135) / 2 = 90\n",
    "print(np.rad2deg(circ_median(alpha=d, return_average=True)))\n",
    "# return all potential medians\n",
    "print(np.rad2deg(circ_median(alpha=d, return_average=False)))"
   ]
  },
  {
   "attachments": {},
   "cell_type": "markdown",
   "metadata": {},
   "source": [
    "## Circular standard deviation\n",
    "\n",
    "`circ_std(alpha)` returns the mean angular deviation (`s`; ranges from `0` to `81.03` degree):\n",
    "\n",
    "$$s = \\sqrt{2 ( 1 - r)}$$\n",
    "\n",
    "and the circular standard deviation (`s0`; ranges from `0` to `inf`):\n",
    "\n",
    "$$s_{0} = \\sqrt{ -2 \\ln r}$$\n",
    "\n",
    "The corresponding angular and circular variance are the sqaure of `s` and `s0`.\n",
    "\n",
    "For grouped data, `r` will be corrected by the `bin_size = np.diff(alpha)[0]`."
   ]
  },
  {
   "cell_type": "code",
   "execution_count": 8,
   "metadata": {},
   "outputs": [
    {
     "name": "stdout",
     "output_type": "stream",
     "text": [
      "s=34.0, s0=36.0, r=0.82522\n",
      "s=54.0, s0=62.0, r=0.55698\n"
     ]
    }
   ],
   "source": [
    "from pycircstat2.descriptive import circ_std\n",
    "\n",
    "d1 = load_data('D1', source='zar')['θ'].values\n",
    "c1 = Circular(data=d1)\n",
    "s, s0, r = circ_std(alpha=c1.alpha)\n",
    "print(f\"s={np.rad2deg(s).round()}, s0={np.rad2deg(s0).round()}, r={r:.5f}\")\n",
    "\n",
    "d2 = load_data('D2', source='zar')\n",
    "c2 = Circular(data=d2['θ'].values, w=d2['w'].values)\n",
    "s, s0, r = circ_std(alpha=c2.alpha, w=c2.w)\n",
    "print(f\"s={np.rad2deg(s).round()}, s0={np.rad2deg(s0).round()}, r={r:.5f}\")"
   ]
  },
  {
   "attachments": {},
   "cell_type": "markdown",
   "metadata": {},
   "source": [
    "## Confidence interval for circular mean and circular median\n",
    "\n",
    "- `circ_mean_ci(alpha, ci=0.95, method='approximate')` returns the confidence levels of the circular mean. There are three methods:\n",
    "    - `approximate` (Section 26.7, Zar, 2010)\n",
    "    - `bootstrap` (Section 4.4.4a, Fisher, 1993)\n",
    "    - `dispersion` (Section 4.4.4b, Fisher, 1993) \n",
    "\n",
    "- `circ_median_ci(alpha, ci=0.95)` returns the confidence levels of the circular median. When `n<16`, the CI is retrieved according to table A6 of Fisher (1993)l when`n >= 16`, the CI is approximated according to Section 4.4.2 b (Fisher, 1993)."
   ]
  },
  {
   "cell_type": "code",
   "execution_count": 9,
   "metadata": {},
   "outputs": [
    {
     "name": "stdout",
     "output_type": "stream",
     "text": [
      "[ 68. 130.]\n"
     ]
    }
   ],
   "source": [
    "from pycircstat2.descriptive import circ_mean_ci\n",
    "\n",
    "data_zar_ex4_ch26 = load_data(\"D1\", source=\"zar\")\n",
    "circ_zar_ex4_ch26 = Circular(data=data_zar_ex4_ch26[\"θ\"].values)\n",
    "\n",
    "## Approximate: Example 26.6, Zar, 2010\n",
    "lb, ub = circ_mean_ci(\n",
    "    mean=circ_zar_ex4_ch26.mean,\n",
    "    r=circ_zar_ex4_ch26.r,\n",
    "    n=circ_zar_ex4_ch26.n,\n",
    "    method=\"approximate\",\n",
    ")\n",
    "print(np.rad2deg([lb, ub]).round())"
   ]
  },
  {
   "cell_type": "code",
   "execution_count": 10,
   "metadata": {},
   "outputs": [
    {
     "name": "stdout",
     "output_type": "stream",
     "text": [
      "Table 4.1 of Fisher (1993), p.78\n",
      "Sample size               10                        20                        30                       \n",
      "----------------------------------------------------------------------------------------------------\n",
      "median                    279.0                     250.0                     245.0               \n",
      "mean                      280.8                     248.7                     247.6               \n",
      "95% median CI             [245. 315.]               [229. 277.]               [229. 267.]         \n",
      "95% bootstrap mean CI     [262.3 299.9]             [221.8 269.4]             [230.3 261.2]       \n",
      "95% large-sample mean CI  -                         -                         [232.7 262.5]       \n"
     ]
    }
   ],
   "source": [
    "from pycircstat2.descriptive import circ_median_ci\n",
    "\n",
    "d_ex3 = load_data('B6','fisher')\n",
    "d_ex3_10 = np.sort(d_ex3[d_ex3.set==2]['θ'].values[:10])\n",
    "d_ex3_20 = np.sort(d_ex3[d_ex3.set==2]['θ'].values[:20])\n",
    "d_ex3_30 = np.sort(d_ex3[d_ex3.set==2]['θ'].values)\n",
    "\n",
    "table = {'median': [], 'mean': [], '95% median CI': [], '95% bootstrap mean CI': [], '95% large-sample mean CI': []}\n",
    "for i, d in enumerate([d_ex3_10, d_ex3_20, d_ex3_30]):\n",
    "    \n",
    "    e = np.deg2rad(d)\n",
    "    mean = circ_mean(e)\n",
    "    table['mean'].append(np.rad2deg(mean).round(1))\n",
    "    median = circ_median(e, method='count')\n",
    "    table['median'].append(np.rad2deg(median).round(1))\n",
    "\n",
    "    # CI for median\n",
    "    median_lb, median_ub, ci = circ_median_ci(alpha=e)\n",
    "    table['95% median CI'].append(np.rad2deg([median_lb, median_ub]).round(1))\n",
    "\n",
    "    # CI for mean using bootstrap\n",
    "    mean_lb, mean_ub = circ_mean_ci(\n",
    "        alpha=e,\n",
    "        method=\"bootstrap\",\n",
    "    )\n",
    "    table['95% bootstrap mean CI'].append(np.rad2deg([mean_lb, mean_ub]).round(1))\n",
    "\n",
    "    if i == 2:\n",
    "        # CI for mean using dispersion\n",
    "        mean_lb_large_sample, mean_ub_large_sample = circ_mean_ci(\n",
    "            alpha=e,\n",
    "            method=\"dispersion\",\n",
    "        )\n",
    "        table['95% large-sample mean CI'].append(np.rad2deg([mean_lb_large_sample, mean_ub_large_sample]).round(1))\n",
    "    else:\n",
    "        table['95% large-sample mean CI'].append('-')\n",
    "\n",
    "print('Table 4.1 of Fisher (1993), p.78')\n",
    "print(f\"{'Sample size':25} {'10':25} {'20':25} {'30':25}\")\n",
    "print(\"-\"*100)\n",
    "for k, v in table.items():\n",
    "    v10, v20, v30 = v\n",
    "    print(f\"{k:25} {str(v10):25} {str(v20):25} {str(v30):20}\")"
   ]
  },
  {
   "cell_type": "code",
   "execution_count": 11,
   "metadata": {},
   "outputs": [
    {
     "name": "stdout",
     "output_type": "stream",
     "text": [
      "Last updated: 2024-11-20 16:48:47CET\n",
      "\n",
      "Python implementation: CPython\n",
      "Python version       : 3.10.13\n",
      "IPython version      : 8.29.0\n",
      "\n",
      "pycircstat2: 0.1.0\n",
      "\n",
      "pycircstat2: 0.1.0\n",
      "numpy      : 2.1.3\n",
      "\n",
      "Watermark: 2.5.0\n",
      "\n"
     ]
    }
   ],
   "source": [
    "%load_ext watermark\n",
    "%watermark --time --date --timezone --updated --python --iversions --watermark -p pycircstat2"
   ]
  }
 ],
 "metadata": {
  "kernelspec": {
   "display_name": ".circstat",
   "language": "python",
   "name": "python3"
  },
  "language_info": {
   "codemirror_mode": {
    "name": "ipython",
    "version": 3
   },
   "file_extension": ".py",
   "mimetype": "text/x-python",
   "name": "python",
   "nbconvert_exporter": "python",
   "pygments_lexer": "ipython3",
   "version": "3.10.13"
  },
  "orig_nbformat": 4
 },
 "nbformat": 4,
 "nbformat_minor": 2
}
