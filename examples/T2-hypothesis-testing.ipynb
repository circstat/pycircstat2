{
 "cells": [
  {
   "cell_type": "code",
   "execution_count": 23,
   "metadata": {},
   "outputs": [],
   "source": [
    "import numpy as np \n",
    "\n",
    "from pycircstat2 import Circular, load_data"
   ]
  },
  {
   "attachments": {},
   "cell_type": "markdown",
   "metadata": {},
   "source": [
    "# Hypothesis Testing\n",
    "\n",
    "### Table of Contents\n",
    "\n",
    "- [rayleigh_test](#the-rayleigh-test)\n",
    "- [V_test](#the-v-test)\n",
    "- [omnibus_test](#the-hodges-ajne-test)\n",
    "- [batschelet_test](#the-batschelet-test)\n",
    "- [chisquare_test](#chi-square-test)\n",
    "- [kuiper_test](#kuipers-test)\n",
    "- [watson_test](#watsons-one-sample-u2-test)\n",
    "- [raospacing_test](#raos-spacing-test)\n",
    "- [symmetry_test](#symmetry-test-around-the-median)\n",
    "- [one_sample_test](#one-sample-test)\n",
    "- [watson_williams_test](#watson-williams-test-for-two-multisample)\n",
    "- [watson_u2_test](#watsons-u2-test-for-two-multisample-with-or-without-ties)\n",
    "- [wheeler_watson_test](#wheeler-and-watson-two-sample-test)\n",
    "- [wallraff_test](#wallraffs-two-sample-test-for-angular-dispersion)\n",
    "\n",
    "### See also\n",
    "\n",
    "Chapter 27 of Zar (2010) contains many examples and step-by-step guide of how to compute most of circular hypothesis testing. We replicated all those examples and figures in notebook [`B2-Zar-2010`](https://nbviewer.org/github/circstat/pycircstat2/blob/main/examples/B2-Zar-2010.ipynb) with `pycircstats2`."
   ]
  },
  {
   "attachments": {},
   "cell_type": "markdown",
   "metadata": {},
   "source": [
    "## Testing for Uniformity"
   ]
  },
  {
   "attachments": {},
   "cell_type": "markdown",
   "metadata": {},
   "source": [
    "### The Rayleigh Test \n",
    "\n",
    "`rayleigh_test(alpha)` tests $H_{0}: \\rho=0$ vs. $H_{A}: \\rho \\neq 0$, where $\\rho$ is the population mean vector length. If the Rayleigh Test rejects $H_0$ ($p<0.05$), then the population is not a uniform circular distribution, or there is a mean population direction.\n",
    "\n",
    "**NOTE**: The Rayleigh Test assumes the data is <mark>unimodal</mark>."
   ]
  },
  {
   "cell_type": "code",
   "execution_count": 24,
   "metadata": {},
   "outputs": [
    {
     "name": "stdout",
     "output_type": "stream",
     "text": [
      "Rayleigh's Test of Uniformity\n",
      "-----------------------------\n",
      "H0: ρ = 0\n",
      "HA: ρ ≠ 0\n",
      "\n",
      "Test Statistics  (ρ | z-score): 0.82522 | 5.44787\n",
      "P-value: 0.00185 **\n",
      "Bootstrap P-value: 0.00770 **\n"
     ]
    },
    {
     "data": {
      "text/plain": [
       "RayleighTestResult(r=np.float64(0.8252177448200448), z=np.float64(5.4478746109270455), pval=np.float64(0.0018516375077209267), bootstrap_pval=np.float64(0.0077))"
      ]
     },
     "execution_count": 24,
     "metadata": {},
     "output_type": "execute_result"
    }
   ],
   "source": [
    "from pycircstat2.hypothesis import rayleigh_test\n",
    "\n",
    "d1 = load_data('D1', source='zar')['θ'].values\n",
    "c1 = Circular(data=d1)\n",
    "\n",
    "rayleigh_test(c1.alpha, B=9999, verbose=True)"
   ]
  },
  {
   "attachments": {},
   "cell_type": "markdown",
   "metadata": {},
   "source": [
    "### The V Test\n",
    "\n",
    "`V_test(angle, alpha)` is a modified Rayleigh test that tests $H_{0}: \\rho=0$ vs. $H_{A}: \\rho \\neq 0$ and has a mean angle ($\\mu$)."
   ]
  },
  {
   "cell_type": "code",
   "execution_count": 25,
   "metadata": {},
   "outputs": [
    {
     "name": "stdout",
     "output_type": "stream",
     "text": [
      "Modified Rayleigh's Test of Uniformity\n",
      "--------------------------------------\n",
      "H0: ρ = 0\n",
      "HA: ρ ≠ 0 and μ = {angle:.5f} rad\n",
      "\n",
      "Test Statistics: 9.49761\n",
      "P-value: 0.00001 ***\n"
     ]
    }
   ],
   "source": [
    "from pycircstat2.hypothesis import V_test\n",
    "\n",
    "d7 = load_data('D7', source='zar')['θ'].values\n",
    "c7 = Circular(data=d7)\n",
    "\n",
    "V, u, pval = V_test(angle=np.deg2rad(90), alpha=c7.alpha, verbose=True)"
   ]
  },
  {
   "attachments": {},
   "cell_type": "markdown",
   "metadata": {},
   "source": [
    "### The Hodges-Ajne Test\n",
    "\n",
    "\n",
    "`omnibus_test(alpha)` tests $H_0$: uniform vs. $H_A$: not unifrom. Also called Ajne's A Test, or \"omnibus test\" because it works well for unimodal, bimodal, and multimoodal distributions."
   ]
  },
  {
   "cell_type": "code",
   "execution_count": 26,
   "metadata": {},
   "outputs": [
    {
     "name": "stdout",
     "output_type": "stream",
     "text": [
      "Hodges-Ajne (\"omnibus\") Test for Uniformity\n",
      "-------------------------------------------\n",
      "H0: uniform\n",
      "HA: not unifrom\n",
      "\n",
      "Test Statistics: 0.42752\n",
      "P-value: 0.00434 **\n"
     ]
    }
   ],
   "source": [
    "from pycircstat2.hypothesis import omnibus_test\n",
    "\n",
    "d8 = load_data('D8', source='zar')['θ'].values\n",
    "c8 = Circular(data=d8)\n",
    "\n",
    "A, pval = omnibus_test(c8.alpha, verbose=True)"
   ]
  },
  {
   "attachments": {},
   "cell_type": "markdown",
   "metadata": {},
   "source": [
    "### The Batschelet Test\n",
    "\n",
    "`batschelet_test(alpha)` is a modified Hodges-Ajne Test that tests $H_0$: uniform vs. $H_A$: not unifrom but concentrated around an angle θ."
   ]
  },
  {
   "cell_type": "code",
   "execution_count": 27,
   "metadata": {},
   "outputs": [
    {
     "name": "stdout",
     "output_type": "stream",
     "text": [
      "Batschelet Test for Uniformity\n",
      "------------------------------\n",
      "H0: uniform\n",
      "HA: not unifrom but concentrated around θ = 0.78540 rad\n",
      "\n",
      "Test Statistics: 5\n",
      "P-value: 0.00661 **\n"
     ]
    }
   ],
   "source": [
    "from pycircstat2.hypothesis import batschelet_test\n",
    "\n",
    "C, pval = batschelet_test(angle=np.deg2rad(45), alpha=c8.alpha, verbose=True)"
   ]
  },
  {
   "attachments": {},
   "cell_type": "markdown",
   "metadata": {},
   "source": [
    "### Goodness-of-Fit Tests for Uniformity\n",
    "\n",
    "#### Chi-Square Test\n",
    "\n",
    "`chisquare_test(alpha)` tests the goodness of fit of a theoretical circular frequency distribution to an observed one. Here it is used to test whether the data in the population are distributed unifromly around the circle. This method is for <mark>grouped</mark> data."
   ]
  },
  {
   "cell_type": "code",
   "execution_count": 28,
   "metadata": {},
   "outputs": [
    {
     "name": "stdout",
     "output_type": "stream",
     "text": [
      "Chi-Square Test of Uniformity\n",
      "-----------------------------\n",
      "H0: uniform\n",
      "HA: not uniform\n",
      "\n",
      "Test Statistics (χ²): 66.54286\n",
      "P-value: 0.00000 ***\n"
     ]
    },
    {
     "data": {
      "text/plain": [
       "ChiSquareTestResult(chi2=np.float64(66.54285714285714), pval=np.float64(5.518107289173823e-10))"
      ]
     },
     "execution_count": 28,
     "metadata": {},
     "output_type": "execute_result"
    }
   ],
   "source": [
    "from pycircstat2.hypothesis import chisquare_test\n",
    "\n",
    "\n",
    "d2 = load_data(\"D2\", source=\"zar\")\n",
    "c2 = Circular(data=d2[\"θ\"].values, w=d2[\"w\"].values)\n",
    "\n",
    "chisquare_test(c2.w, verbose=True)"
   ]
  },
  {
   "attachments": {},
   "cell_type": "markdown",
   "metadata": {},
   "source": [
    "`kuiper_test(alpha)`, `watson_test(alpha)`, and `raospacing_test(alpha)` are Goodness-of-fit tests for ungrouped data. P-values for these tests are computed through simulation."
   ]
  },
  {
   "cell_type": "code",
   "execution_count": 29,
   "metadata": {},
   "outputs": [],
   "source": [
    "from pycircstat2.hypothesis import kuiper_test, watson_test, rao_spacing_test\n",
    "\n",
    "pigeon = np.array([20, 135, 145, 165, 170, 200, 300, 325, 335, 350, 350, 350, 355])\n",
    "c_pigeon = Circular(data=pigeon)"
   ]
  },
  {
   "attachments": {},
   "cell_type": "markdown",
   "metadata": {},
   "source": [
    "#### Kuiper's Test"
   ]
  },
  {
   "cell_type": "code",
   "execution_count": 30,
   "metadata": {},
   "outputs": [
    {
     "name": "stdout",
     "output_type": "stream",
     "text": [
      "Kuiper's Test of Circular Uniformity\n",
      "------------------------------------\n",
      "\n",
      "Test Statistic: 1.5047\n",
      "P-value = 0.1691 \n"
     ]
    }
   ],
   "source": [
    "V, pval = kuiper_test(c_pigeon.alpha, n_simulation=9999, verbose=True)"
   ]
  },
  {
   "attachments": {},
   "cell_type": "markdown",
   "metadata": {},
   "source": [
    "#### Watson's one-sample U2 Test"
   ]
  },
  {
   "cell_type": "code",
   "execution_count": 31,
   "metadata": {},
   "outputs": [
    {
     "name": "stdout",
     "output_type": "stream",
     "text": [
      "Watson's One-Sample U2 Test of Circular Uniformity\n",
      "--------------------------------------------------\n",
      "\n",
      "Test Statistic: 0.1361\n",
      "P-value = 0.1369 \n"
     ]
    }
   ],
   "source": [
    "U2, pval = watson_test(c_pigeon.alpha, n_simulation=9999, verbose=True)"
   ]
  },
  {
   "attachments": {},
   "cell_type": "markdown",
   "metadata": {},
   "source": [
    "#### Rao's Spacing Test"
   ]
  },
  {
   "cell_type": "code",
   "execution_count": 32,
   "metadata": {},
   "outputs": [
    {
     "name": "stdout",
     "output_type": "stream",
     "text": [
      "Rao's Spacing Test of Circular Uniformity\n",
      "-----------------------------------------\n",
      "\n",
      "Test Statistic: 2.8261\n",
      "P-value = 0.0766\n",
      "\n"
     ]
    }
   ],
   "source": [
    "U, pval = rao_spacing_test(c_pigeon.alpha, n_simulation=9999, verbose=True)"
   ]
  },
  {
   "attachments": {},
   "cell_type": "markdown",
   "metadata": {},
   "source": [
    "## Testing for Symmetry"
   ]
  },
  {
   "attachments": {},
   "cell_type": "markdown",
   "metadata": {},
   "source": [
    "### Symmetry Test (around the median)\n",
    "\n",
    "`symmetry_test(alpha)` tests $H_0$: symmetrical around $\\theta$ vs. $H_A$: not symmetrical around $\\theta$, where $\\theta$ is the median of the population."
   ]
  },
  {
   "cell_type": "code",
   "execution_count": 33,
   "metadata": {},
   "outputs": [
    {
     "name": "stdout",
     "output_type": "stream",
     "text": [
      "Symmetry Test\n",
      "------------------------------\n",
      "H0: symmetrical around median\n",
      "HA: not symmetrical around median\n",
      "\n",
      "Test Statistics: 14.50000\n",
      "P-value: 0.66406 \n"
     ]
    }
   ],
   "source": [
    "from pycircstat2.hypothesis import symmetry_test\n",
    "\n",
    "d9 = load_data('D9', source='zar')['θ'].values\n",
    "c9 = Circular(data=d9)\n",
    "\n",
    "statistics, pval = symmetry_test(alpha=c9.alpha, verbose=True)"
   ]
  },
  {
   "attachments": {},
   "cell_type": "markdown",
   "metadata": {},
   "source": [
    "## Testing for the Mean Angle"
   ]
  },
  {
   "attachments": {},
   "cell_type": "markdown",
   "metadata": {},
   "source": [
    "### One-Sample Test\n",
    "\n",
    "`one_sample_test(alpha)` tests $H_{0}: \\mu_a=\\mu_0$ vs. $H_{A}: \\mu_a \\neq \\mu_0$ ,where $\\mu_{a}$ is the population mean angle and $\\mu_{0}$ is a specified angle. This test is simply observing whether  $\\mu_{0}$ lies within the confidence interval for $\\mu_{a}$."
   ]
  },
  {
   "cell_type": "code",
   "execution_count": 34,
   "metadata": {},
   "outputs": [
    {
     "name": "stdout",
     "output_type": "stream",
     "text": [
      "One-Sample Test for the Mean Angle\n",
      "----------------------------------\n",
      "H0: μ = μ0\n",
      "HA: μ ≠ μ0 and μ0 = 1.57080 rad\n",
      "\n",
      "Failed to reject H0:\n",
      "μ0 = 1.57080 lies within the 95% CI of μ ([1.41993 1.86297])\n"
     ]
    }
   ],
   "source": [
    "from pycircstat2.hypothesis import one_sample_test\n",
    "\n",
    "reject_or_not = one_sample_test(angle=np.deg2rad(90), alpha=c7.alpha, verbose=True)"
   ]
  },
  {
   "attachments": {},
   "cell_type": "markdown",
   "metadata": {},
   "source": [
    "## Two-Sample or Multisample Test"
   ]
  },
  {
   "attachments": {},
   "cell_type": "markdown",
   "metadata": {},
   "source": [
    "### Watson-Williams Test for Two-/Multisample\n",
    "\n",
    "`watson_williams_test(circs)` tests $H_0$: $\\mu_1 = \\mu_2 = ... = \\mu_n$ vs. $H_A$: $\\mu_1 \\neq \\mu_2 \\neq ... \\neq \\mu_n$ "
   ]
  },
  {
   "cell_type": "code",
   "execution_count": 35,
   "metadata": {},
   "outputs": [
    {
     "name": "stdout",
     "output_type": "stream",
     "text": [
      "The Watson-Williams Test for multiple samples\n",
      "---------------------------------------------\n",
      "H0: all samples are from populations with the same angle.\n",
      "HA: all samples are not from populations with the same angle.\n",
      "\n",
      "Test Statistics: 1.86524\n",
      "P-value: 0.18701 \n"
     ]
    }
   ],
   "source": [
    "from pycircstat2.hypothesis import watson_williams_test\n",
    "\n",
    "data = load_data(\"D11\", source=\"zar\")\n",
    "s1 = Circular(data=data[data[\"sample\"] == 1][\"θ\"].values)\n",
    "s2 = Circular(data=data[data[\"sample\"] == 2][\"θ\"].values)\n",
    "s3 = Circular(data=data[data[\"sample\"] == 3][\"θ\"].values)\n",
    "\n",
    "F, pval = watson_williams_test(circs=[s1, s2, s3], verbose=True)"
   ]
  },
  {
   "attachments": {},
   "cell_type": "markdown",
   "metadata": {},
   "source": [
    "### Watson's U2 Test for Two-/multisample with or without Ties\n",
    "\n",
    "`watson_U2_test(circs)` tests $H_0$: $\\mu_1 = \\mu_2 = ... = \\mu_n$ vs. $H_A$: $\\mu_1 \\neq \\mu_2 \\neq ... \\neq \\mu_n$ for data with or without ties"
   ]
  },
  {
   "cell_type": "code",
   "execution_count": 36,
   "metadata": {},
   "outputs": [],
   "source": [
    "from pycircstat2.hypothesis import watson_u2_test"
   ]
  },
  {
   "cell_type": "code",
   "execution_count": 37,
   "metadata": {},
   "outputs": [
    {
     "name": "stdout",
     "output_type": "stream",
     "text": [
      "Watson's U2 Test for two samples\n",
      "---------------------------------------------\n",
      "H0: The two samples are from populations with the same angle.\n",
      "HA: The two samples are not from populations with the same angle.\n",
      "\n",
      "Test Statistics: 0.14574\n",
      "P-value: 0.11261 \n"
     ]
    }
   ],
   "source": [
    "# without ties\n",
    "d = load_data(\"D12\", source=\"zar\")\n",
    "c0 = Circular(data=d[d[\"sample\"] == 1][\"θ\"].values)\n",
    "c1 = Circular(data=d[d[\"sample\"] == 2][\"θ\"].values)\n",
    "U2, pval = watson_u2_test(circs=[c0, c1], verbose=True)"
   ]
  },
  {
   "cell_type": "code",
   "execution_count": 38,
   "metadata": {},
   "outputs": [
    {
     "name": "stdout",
     "output_type": "stream",
     "text": [
      "Watson's U2 Test for two samples\n",
      "---------------------------------------------\n",
      "H0: The two samples are from populations with the same angle.\n",
      "HA: The two samples are not from populations with the same angle.\n",
      "\n",
      "Test Statistics: 0.06123\n",
      "P-value: 0.59716 \n"
     ]
    }
   ],
   "source": [
    "# with ties\n",
    "d = load_data(\"D13\", source=\"zar\")\n",
    "c0 = Circular(data=d[d[\"sample\"] == 1][\"θ\"].values, w=d[d[\"sample\"] == 1][\"w\"].values)\n",
    "c1 = Circular(data=d[d[\"sample\"] == 2][\"θ\"].values, w=d[d[\"sample\"] == 2][\"w\"].values)\n",
    "U2, pval = watson_u2_test(circs=[c0, c1], verbose=True)"
   ]
  },
  {
   "attachments": {},
   "cell_type": "markdown",
   "metadata": {},
   "source": [
    "### Wheeler and Watson Two-sample Test\n",
    "\n",
    "`wheeler_watson_test(circs)` tests $H_0$: $\\mu_1 = \\mu_2 = ... = \\mu_n$ vs. $H_A$: $\\mu_1 \\neq \\mu_2 \\neq ... \\neq \\mu_n$."
   ]
  },
  {
   "cell_type": "code",
   "execution_count": 39,
   "metadata": {},
   "outputs": [
    {
     "name": "stdout",
     "output_type": "stream",
     "text": [
      "The Wheeler and Watson Two/Multi-Sample Test\n",
      "---------------------------------------------\n",
      "H0: All samples are from populations with the same angle.\n",
      "HA: All samples are not from populations with the same angle.\n",
      "\n",
      "Test Statistics: 3.67827\n",
      "P-value: 0.15895 \n"
     ]
    }
   ],
   "source": [
    "from pycircstat2.hypothesis import wheeler_watson_test\n",
    "\n",
    "d = load_data(\"D12\", source=\"zar\")\n",
    "c0 = Circular(data=d[d[\"sample\"] == 1][\"θ\"].values)\n",
    "c1 = Circular(data=d[d[\"sample\"] == 2][\"θ\"].values)\n",
    "\n",
    "W, pval = wheeler_watson_test(circs=[c0, c1], verbose=True)"
   ]
  },
  {
   "attachments": {},
   "cell_type": "markdown",
   "metadata": {},
   "source": [
    "### Wallraff's Two-sample Test for Angular Dispersion"
   ]
  },
  {
   "cell_type": "code",
   "execution_count": 40,
   "metadata": {},
   "outputs": [
    {
     "name": "stdout",
     "output_type": "stream",
     "text": [
      "Wallraff test of angular distances / dispersion\n",
      "-----------------------------------------------\n",
      "\n",
      "Test Statistics: 18.50000\n",
      "P-value: 0.77510 \n"
     ]
    }
   ],
   "source": [
    "from pycircstat2.hypothesis import wallraff_test\n",
    "\n",
    "d = load_data(\"D14\", source=\"zar\")\n",
    "c0 = Circular(data=d[d[\"sex\"] == \"male\"][\"θ\"].values)\n",
    "c1 = Circular(data=d[d[\"sex\"] == \"female\"][\"θ\"].values)\n",
    "U, pval = wallraff_test(angle=np.deg2rad(135), circs=[c0, c1], verbose=True)"
   ]
  },
  {
   "cell_type": "code",
   "execution_count": 41,
   "metadata": {},
   "outputs": [
    {
     "name": "stdout",
     "output_type": "stream",
     "text": [
      "Wallraff test of angular distances / dispersion\n",
      "-----------------------------------------------\n",
      "\n",
      "Test Statistics: 13.00000\n",
      "P-value: 0.17524 \n"
     ]
    }
   ],
   "source": [
    "from pycircstat2.utils import time2float\n",
    "\n",
    "d = load_data(\"D15\", source=\"zar\")\n",
    "c0 = Circular(data=time2float(d[d[\"sex\"] == \"male\"][\"time\"].values))\n",
    "c1 = Circular(data=time2float(d[d[\"sex\"] == \"female\"][\"time\"].values))\n",
    "U, pval = wallraff_test(angle=np.deg2rad(time2float(['7:55', '8:15'])), circs=[c0, c1], verbose=True)"
   ]
  },
  {
   "cell_type": "code",
   "execution_count": 42,
   "metadata": {},
   "outputs": [
    {
     "ename": "ModuleNotFoundError",
     "evalue": "No module named 'watermark'",
     "output_type": "error",
     "traceback": [
      "\u001b[0;31m---------------------------------------------------------------------------\u001b[0m",
      "\u001b[0;31mModuleNotFoundError\u001b[0m                       Traceback (most recent call last)",
      "Cell \u001b[0;32mIn[42], line 1\u001b[0m\n\u001b[0;32m----> 1\u001b[0m \u001b[43mget_ipython\u001b[49m\u001b[43m(\u001b[49m\u001b[43m)\u001b[49m\u001b[38;5;241;43m.\u001b[39;49m\u001b[43mrun_line_magic\u001b[49m\u001b[43m(\u001b[49m\u001b[38;5;124;43m'\u001b[39;49m\u001b[38;5;124;43mload_ext\u001b[39;49m\u001b[38;5;124;43m'\u001b[39;49m\u001b[43m,\u001b[49m\u001b[43m \u001b[49m\u001b[38;5;124;43m'\u001b[39;49m\u001b[38;5;124;43mwatermark\u001b[39;49m\u001b[38;5;124;43m'\u001b[39;49m\u001b[43m)\u001b[49m\n\u001b[1;32m      2\u001b[0m get_ipython()\u001b[38;5;241m.\u001b[39mrun_line_magic(\u001b[38;5;124m'\u001b[39m\u001b[38;5;124mwatermark\u001b[39m\u001b[38;5;124m'\u001b[39m, \u001b[38;5;124m'\u001b[39m\u001b[38;5;124m--time --date --timezone --updated --python --iversions --watermark\u001b[39m\u001b[38;5;124m'\u001b[39m)\n",
      "File \u001b[0;32m~/src/pycircstat2/.venv/lib/python3.12/site-packages/IPython/core/interactiveshell.py:2482\u001b[0m, in \u001b[0;36mInteractiveShell.run_line_magic\u001b[0;34m(self, magic_name, line, _stack_depth)\u001b[0m\n\u001b[1;32m   2480\u001b[0m     kwargs[\u001b[38;5;124m'\u001b[39m\u001b[38;5;124mlocal_ns\u001b[39m\u001b[38;5;124m'\u001b[39m] \u001b[38;5;241m=\u001b[39m \u001b[38;5;28mself\u001b[39m\u001b[38;5;241m.\u001b[39mget_local_scope(stack_depth)\n\u001b[1;32m   2481\u001b[0m \u001b[38;5;28;01mwith\u001b[39;00m \u001b[38;5;28mself\u001b[39m\u001b[38;5;241m.\u001b[39mbuiltin_trap:\n\u001b[0;32m-> 2482\u001b[0m     result \u001b[38;5;241m=\u001b[39m \u001b[43mfn\u001b[49m\u001b[43m(\u001b[49m\u001b[38;5;241;43m*\u001b[39;49m\u001b[43margs\u001b[49m\u001b[43m,\u001b[49m\u001b[43m \u001b[49m\u001b[38;5;241;43m*\u001b[39;49m\u001b[38;5;241;43m*\u001b[39;49m\u001b[43mkwargs\u001b[49m\u001b[43m)\u001b[49m\n\u001b[1;32m   2484\u001b[0m \u001b[38;5;66;03m# The code below prevents the output from being displayed\u001b[39;00m\n\u001b[1;32m   2485\u001b[0m \u001b[38;5;66;03m# when using magics with decorator @output_can_be_silenced\u001b[39;00m\n\u001b[1;32m   2486\u001b[0m \u001b[38;5;66;03m# when the last Python token in the expression is a ';'.\u001b[39;00m\n\u001b[1;32m   2487\u001b[0m \u001b[38;5;28;01mif\u001b[39;00m \u001b[38;5;28mgetattr\u001b[39m(fn, magic\u001b[38;5;241m.\u001b[39mMAGIC_OUTPUT_CAN_BE_SILENCED, \u001b[38;5;28;01mFalse\u001b[39;00m):\n",
      "File \u001b[0;32m~/src/pycircstat2/.venv/lib/python3.12/site-packages/IPython/core/magics/extension.py:33\u001b[0m, in \u001b[0;36mExtensionMagics.load_ext\u001b[0;34m(self, module_str)\u001b[0m\n\u001b[1;32m     31\u001b[0m \u001b[38;5;28;01mif\u001b[39;00m \u001b[38;5;129;01mnot\u001b[39;00m module_str:\n\u001b[1;32m     32\u001b[0m     \u001b[38;5;28;01mraise\u001b[39;00m UsageError(\u001b[38;5;124m'\u001b[39m\u001b[38;5;124mMissing module name.\u001b[39m\u001b[38;5;124m'\u001b[39m)\n\u001b[0;32m---> 33\u001b[0m res \u001b[38;5;241m=\u001b[39m \u001b[38;5;28;43mself\u001b[39;49m\u001b[38;5;241;43m.\u001b[39;49m\u001b[43mshell\u001b[49m\u001b[38;5;241;43m.\u001b[39;49m\u001b[43mextension_manager\u001b[49m\u001b[38;5;241;43m.\u001b[39;49m\u001b[43mload_extension\u001b[49m\u001b[43m(\u001b[49m\u001b[43mmodule_str\u001b[49m\u001b[43m)\u001b[49m\n\u001b[1;32m     35\u001b[0m \u001b[38;5;28;01mif\u001b[39;00m res \u001b[38;5;241m==\u001b[39m \u001b[38;5;124m'\u001b[39m\u001b[38;5;124malready loaded\u001b[39m\u001b[38;5;124m'\u001b[39m:\n\u001b[1;32m     36\u001b[0m     \u001b[38;5;28mprint\u001b[39m(\u001b[38;5;124m\"\u001b[39m\u001b[38;5;124mThe \u001b[39m\u001b[38;5;132;01m%s\u001b[39;00m\u001b[38;5;124m extension is already loaded. To reload it, use:\u001b[39m\u001b[38;5;124m\"\u001b[39m \u001b[38;5;241m%\u001b[39m module_str)\n",
      "File \u001b[0;32m~/src/pycircstat2/.venv/lib/python3.12/site-packages/IPython/core/extensions.py:62\u001b[0m, in \u001b[0;36mExtensionManager.load_extension\u001b[0;34m(self, module_str)\u001b[0m\n\u001b[1;32m     55\u001b[0m \u001b[38;5;250m\u001b[39m\u001b[38;5;124;03m\"\"\"Load an IPython extension by its module name.\u001b[39;00m\n\u001b[1;32m     56\u001b[0m \n\u001b[1;32m     57\u001b[0m \u001b[38;5;124;03mReturns the string \"already loaded\" if the extension is already loaded,\u001b[39;00m\n\u001b[1;32m     58\u001b[0m \u001b[38;5;124;03m\"no load function\" if the module doesn't have a load_ipython_extension\u001b[39;00m\n\u001b[1;32m     59\u001b[0m \u001b[38;5;124;03mfunction, or None if it succeeded.\u001b[39;00m\n\u001b[1;32m     60\u001b[0m \u001b[38;5;124;03m\"\"\"\u001b[39;00m\n\u001b[1;32m     61\u001b[0m \u001b[38;5;28;01mtry\u001b[39;00m:\n\u001b[0;32m---> 62\u001b[0m     \u001b[38;5;28;01mreturn\u001b[39;00m \u001b[38;5;28;43mself\u001b[39;49m\u001b[38;5;241;43m.\u001b[39;49m\u001b[43m_load_extension\u001b[49m\u001b[43m(\u001b[49m\u001b[43mmodule_str\u001b[49m\u001b[43m)\u001b[49m\n\u001b[1;32m     63\u001b[0m \u001b[38;5;28;01mexcept\u001b[39;00m \u001b[38;5;167;01mModuleNotFoundError\u001b[39;00m:\n\u001b[1;32m     64\u001b[0m     \u001b[38;5;28;01mif\u001b[39;00m module_str \u001b[38;5;129;01min\u001b[39;00m BUILTINS_EXTS:\n",
      "File \u001b[0;32m~/src/pycircstat2/.venv/lib/python3.12/site-packages/IPython/core/extensions.py:77\u001b[0m, in \u001b[0;36mExtensionManager._load_extension\u001b[0;34m(self, module_str)\u001b[0m\n\u001b[1;32m     75\u001b[0m \u001b[38;5;28;01mwith\u001b[39;00m \u001b[38;5;28mself\u001b[39m\u001b[38;5;241m.\u001b[39mshell\u001b[38;5;241m.\u001b[39mbuiltin_trap:\n\u001b[1;32m     76\u001b[0m     \u001b[38;5;28;01mif\u001b[39;00m module_str \u001b[38;5;129;01mnot\u001b[39;00m \u001b[38;5;129;01min\u001b[39;00m sys\u001b[38;5;241m.\u001b[39mmodules:\n\u001b[0;32m---> 77\u001b[0m         mod \u001b[38;5;241m=\u001b[39m \u001b[43mimport_module\u001b[49m\u001b[43m(\u001b[49m\u001b[43mmodule_str\u001b[49m\u001b[43m)\u001b[49m\n\u001b[1;32m     78\u001b[0m     mod \u001b[38;5;241m=\u001b[39m sys\u001b[38;5;241m.\u001b[39mmodules[module_str]\n\u001b[1;32m     79\u001b[0m     \u001b[38;5;28;01mif\u001b[39;00m \u001b[38;5;28mself\u001b[39m\u001b[38;5;241m.\u001b[39m_call_load_ipython_extension(mod):\n",
      "File \u001b[0;32m~/.local/share/uv/python/cpython-3.12.7-linux-x86_64-gnu/lib/python3.12/importlib/__init__.py:90\u001b[0m, in \u001b[0;36mimport_module\u001b[0;34m(name, package)\u001b[0m\n\u001b[1;32m     88\u001b[0m             \u001b[38;5;28;01mbreak\u001b[39;00m\n\u001b[1;32m     89\u001b[0m         level \u001b[38;5;241m+\u001b[39m\u001b[38;5;241m=\u001b[39m \u001b[38;5;241m1\u001b[39m\n\u001b[0;32m---> 90\u001b[0m \u001b[38;5;28;01mreturn\u001b[39;00m \u001b[43m_bootstrap\u001b[49m\u001b[38;5;241;43m.\u001b[39;49m\u001b[43m_gcd_import\u001b[49m\u001b[43m(\u001b[49m\u001b[43mname\u001b[49m\u001b[43m[\u001b[49m\u001b[43mlevel\u001b[49m\u001b[43m:\u001b[49m\u001b[43m]\u001b[49m\u001b[43m,\u001b[49m\u001b[43m \u001b[49m\u001b[43mpackage\u001b[49m\u001b[43m,\u001b[49m\u001b[43m \u001b[49m\u001b[43mlevel\u001b[49m\u001b[43m)\u001b[49m\n",
      "File \u001b[0;32m<frozen importlib._bootstrap>:1387\u001b[0m, in \u001b[0;36m_gcd_import\u001b[0;34m(name, package, level)\u001b[0m\n",
      "File \u001b[0;32m<frozen importlib._bootstrap>:1360\u001b[0m, in \u001b[0;36m_find_and_load\u001b[0;34m(name, import_)\u001b[0m\n",
      "File \u001b[0;32m<frozen importlib._bootstrap>:1324\u001b[0m, in \u001b[0;36m_find_and_load_unlocked\u001b[0;34m(name, import_)\u001b[0m\n",
      "\u001b[0;31mModuleNotFoundError\u001b[0m: No module named 'watermark'"
     ]
    }
   ],
   "source": [
    "%load_ext watermark\n",
    "%watermark --time --date --timezone --updated --python --iversions --watermark"
   ]
  },
  {
   "cell_type": "markdown",
   "metadata": {},
   "source": [
    "# The Angular Randomization Test (ART) for homogeneity of two groups "
   ]
  },
  {
   "cell_type": "code",
   "execution_count": 45,
   "metadata": {},
   "outputs": [
    {
     "name": "stdout",
     "output_type": "stream",
     "text": [
      "Angular Randomization Test (ART) for Homogeneity\n",
      "-------------------------------------------------\n",
      "H0: The two samples come from the same population.\n",
      "HA: The two samples do not come from the same population.\n",
      "\n",
      "Observed Test Statistic: 105.98051\n",
      "P-value: 0.59141 \n"
     ]
    }
   ],
   "source": [
    "from pycircstat2.hypothesis import angular_randomisation_test\n",
    "\n",
    "d = load_data(\"D13\", source=\"zar\")\n",
    "c0 = Circular(data=d[d[\"sample\"] == 1][\"θ\"].values)\n",
    "c1 = Circular(data=d[d[\"sample\"] == 2][\"θ\"].values)\n",
    "\n",
    "T, pval = angular_randomisation_test(circs=[c0, c1], n_simulation=1000, verbose=True)\n"
   ]
  },
  {
   "cell_type": "code",
   "execution_count": null,
   "metadata": {},
   "outputs": [],
   "source": []
  }
 ],
 "metadata": {
  "kernelspec": {
   "display_name": ".venv",
   "language": "python",
   "name": "python3"
  },
  "language_info": {
   "codemirror_mode": {
    "name": "ipython",
    "version": 3
   },
   "file_extension": ".py",
   "mimetype": "text/x-python",
   "name": "python",
   "nbconvert_exporter": "python",
   "pygments_lexer": "ipython3",
   "version": "3.12.7"
  },
  "orig_nbformat": 4
 },
 "nbformat": 4,
 "nbformat_minor": 2
}
