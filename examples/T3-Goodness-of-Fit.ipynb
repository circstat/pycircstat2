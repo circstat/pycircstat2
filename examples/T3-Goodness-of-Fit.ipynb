{
 "cells": [
  {
   "cell_type": "code",
   "execution_count": 1,
   "metadata": {},
   "outputs": [],
   "source": [
    "import numpy as np\n",
    "import matplotlib.pyplot as plt\n",
    "import polars as pl\n",
    "\n",
    "from pycircstat2 import Circular, load_data\n",
    "from pycircstat2.utils import time2float\n",
    "\n",
    "from pycircstat2.hypothesis import kuiper_test, watson_test, rao_spacing_test"
   ]
  },
  {
   "attachments": {},
   "cell_type": "markdown",
   "metadata": {},
   "source": [
    "# Goodness-of-Fit"
   ]
  },
  {
   "attachments": {},
   "cell_type": "markdown",
   "metadata": {},
   "source": [
    "## Example 7.2 from Jammalamadaka & Sengupta, 2001"
   ]
  },
  {
   "cell_type": "code",
   "execution_count": 2,
   "metadata": {},
   "outputs": [
    {
     "data": {
      "image/png": "[encoded data removed]",
      "text/plain": [
       "<Figure size 300x300 with 1 Axes>"
      ]
     },
     "metadata": {},
     "output_type": "display_data"
    },
    {
     "data": {
      "text/plain": [
       "Circular Data\n",
       "=============\n",
       "\n",
       "Summary\n",
       "-------\n",
       "  Grouped?: No\n",
       "  Unit: degree\n",
       "  Sample size: 13\n",
       "  Angular mean: 344.33 ( p=0.5552  ) \n",
       "  Angular median: 350.00 \n",
       "  Angular median CI (0.93): 165.00 - 350.00\n",
       "  Angular deviation (s): 71.76 \n",
       "  Circular standard deviation (s0): 100.36 \n",
       "  Concentration (r): 0.22\n",
       "  Concentration (kappa): 0.09\n",
       "  Skewness: -0.039\n",
       "  Kurtosis: 1.189\n",
       "\n",
       "Signif. codes:\n",
       "--------------\n",
       " 0 '***' 0.001 '**' 0.01 '*' 0.05 '.' 0.1 ' ' 1\n",
       "\n",
       "Method\n",
       "------\n",
       "  Angular median: deviation\n",
       "  Angular mean CI: None"
      ]
     },
     "execution_count": 2,
     "metadata": {},
     "output_type": "execute_result"
    }
   ],
   "source": [
    "pigeon = np.array([20, 135, 145, 165, 170, 200, 300, 325, 335, 350, 350, 350, 355])\n",
    "\n",
    "c_pigeon = Circular(pigeon)\n",
    "c_pigeon.plot(\n",
    "    figsize=(3,3),\n",
    "    plot_rose=False,\n",
    "    plot_density=False,\n",
    "    plot_mean=False,\n",
    "    plot_median=False,\n",
    ")\n",
    "plt.show()\n",
    "c_pigeon"
   ]
  },
  {
   "cell_type": "code",
   "execution_count": 3,
   "metadata": {},
   "outputs": [
    {
     "name": "stdout",
     "output_type": "stream",
     "text": [
      "Kuiper's Test of Circular Uniformity\n",
      "Test Statistic: 1.5047 P-value = 0.1691 > 0.15\n",
      "\n",
      "Watson's One-Sample U2 Test of Circular Uniformity\n",
      "Test Statistic: 0.1361 P-value = 0.1369 > 0.10\n",
      "\n",
      "Rao's Spacing Test of Circular Uniformity\n",
      "Test Statistic: 161.9231 0.05 < P-value = 0.0766 < 0.10\n",
      "\n"
     ]
    }
   ],
   "source": [
    "V, pval = kuiper_test(c_pigeon.alpha, n_simulation=9999)\n",
    "print(\"Kuiper's Test of Circular Uniformity\")\n",
    "print(f\"Test Statistic: {V:.4f} P-value = {pval} > 0.15\\n\")\n",
    "\n",
    "U2, pval = watson_test(c_pigeon.alpha, n_simulation=9999)\n",
    "print(\"Watson's One-Sample U2 Test of Circular Uniformity\")\n",
    "print(f\"Test Statistic: {U2:.4f} P-value = {pval} > 0.10\\n\")\n",
    "\n",
    "U, pval = rao_spacing_test(c_pigeon.alpha, n_simulation=9999)\n",
    "\n",
    "print(\"Rao's Spacing Test of Circular Uniformity\")\n",
    "print(f\"Test Statistic: {U:.4f} 0.05 < P-value = {pval} < 0.10\\n\")\n"
   ]
  },
  {
   "cell_type": "code",
   "execution_count": 4,
   "metadata": {},
   "outputs": [
    {
     "name": "stdout",
     "output_type": "stream",
     "text": [
      "Last updated: 2023-01-25 15:07:55CET\n",
      "\n",
      "Python implementation: CPython\n",
      "Python version       : 3.10.6\n",
      "IPython version      : 8.5.0\n",
      "\n",
      "pycircstat2: 0.1.0\n",
      "\n",
      "numpy     : 1.23.5\n",
      "matplotlib: 3.5.3\n",
      "sys       : 3.10.6 | packaged by conda-forge | (main, Aug 22 2022, 20:43:44) [Clang 13.0.1 ]\n",
      "polars    : 0.13.13\n",
      "\n",
      "Watermark: 2.3.1\n",
      "\n"
     ]
    }
   ],
   "source": [
    "%load_ext watermark\n",
    "%watermark --time --date --timezone --updated --python --iversions --watermark -p pycircstat2"
   ]
  }
 ],
 "metadata": {
  "kernelspec": {
   "display_name": "base",
   "language": "python",
   "name": "python3"
  },
  "language_info": {
   "codemirror_mode": {
    "name": "ipython",
    "version": 3
   },
   "file_extension": ".py",
   "mimetype": "text/x-python",
   "name": "python",
   "nbconvert_exporter": "python",
   "pygments_lexer": "ipython3",
   "version": "3.10.6"
  },
  "orig_nbformat": 4,
  "vscode": {
   "interpreter": {
    "hash": "4a52f57b56c27f38fc3d95daa57af6da3929fe8541a384ec0d11efb6a1b206eb"
   }
  }
 },
 "nbformat": 4,
 "nbformat_minor": 2
}
